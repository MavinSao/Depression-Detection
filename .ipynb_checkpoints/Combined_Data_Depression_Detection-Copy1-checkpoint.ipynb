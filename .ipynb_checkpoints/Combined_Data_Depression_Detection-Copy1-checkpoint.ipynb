{
 "cells": [
  {
   "cell_type": "code",
   "execution_count": 3,
   "id": "251de3ec",
   "metadata": {},
   "outputs": [],
   "source": [
    "import numpy as np\n",
    "import pandas as pd\n",
    "import matplotlib.pyplot as plt"
   ]
  },
  {
   "cell_type": "code",
   "execution_count": 4,
   "id": "4a5a49d4",
   "metadata": {},
   "outputs": [],
   "source": [
    "df = pd.read_csv('Dataset/combined_data.csv')"
   ]
  },
  {
   "cell_type": "code",
   "execution_count": 5,
   "id": "8e88c802",
   "metadata": {
    "scrolled": true
   },
   "outputs": [
    {
     "data": {
      "text/html": [
       "<div>\n",
       "<style scoped>\n",
       "    .dataframe tbody tr th:only-of-type {\n",
       "        vertical-align: middle;\n",
       "    }\n",
       "\n",
       "    .dataframe tbody tr th {\n",
       "        vertical-align: top;\n",
       "    }\n",
       "\n",
       "    .dataframe thead th {\n",
       "        text-align: right;\n",
       "    }\n",
       "</style>\n",
       "<table border=\"1\" class=\"dataframe\">\n",
       "  <thead>\n",
       "    <tr style=\"text-align: right;\">\n",
       "      <th></th>\n",
       "      <th>Title</th>\n",
       "      <th>Label</th>\n",
       "    </tr>\n",
       "  </thead>\n",
       "  <tbody>\n",
       "    <tr>\n",
       "      <th>0</th>\n",
       "      <td>My parents were long distance up until 8 month...</td>\n",
       "      <td>0</td>\n",
       "    </tr>\n",
       "    <tr>\n",
       "      <th>1</th>\n",
       "      <td>When you go out and buy matching outfits for y...</td>\n",
       "      <td>0</td>\n",
       "    </tr>\n",
       "    <tr>\n",
       "      <th>2</th>\n",
       "      <td>I was able to help deliver a baby about 30 min...</td>\n",
       "      <td>0</td>\n",
       "    </tr>\n",
       "    <tr>\n",
       "      <th>3</th>\n",
       "      <td>Finally got to kiss my crush and it felt so good</td>\n",
       "      <td>0</td>\n",
       "    </tr>\n",
       "    <tr>\n",
       "      <th>4</th>\n",
       "      <td>Hey Reddit, I wrote a book back in August. It'...</td>\n",
       "      <td>0</td>\n",
       "    </tr>\n",
       "  </tbody>\n",
       "</table>\n",
       "</div>"
      ],
      "text/plain": [
       "                                               Title  Label\n",
       "0  My parents were long distance up until 8 month...      0\n",
       "1  When you go out and buy matching outfits for y...      0\n",
       "2  I was able to help deliver a baby about 30 min...      0\n",
       "3   Finally got to kiss my crush and it felt so good      0\n",
       "4  Hey Reddit, I wrote a book back in August. It'...      0"
      ]
     },
     "execution_count": 5,
     "metadata": {},
     "output_type": "execute_result"
    }
   ],
   "source": [
    "df.head()"
   ]
  },
  {
   "cell_type": "code",
   "execution_count": 6,
   "id": "12cf24be",
   "metadata": {},
   "outputs": [],
   "source": [
    "from sentence_transformers import SentenceTransformer\n",
    "bert_model = SentenceTransformer('distilbert-base-nli-mean-tokens')"
   ]
  },
  {
   "cell_type": "code",
   "execution_count": 8,
   "id": "b097cfc4",
   "metadata": {},
   "outputs": [
    {
     "data": {
      "application/vnd.jupyter.widget-view+json": {
       "model_id": "c096fda73dc24b758da6ea76cba23101",
       "version_major": 2,
       "version_minor": 0
      },
      "text/plain": [
       "Batches:   0%|          | 0/738 [00:00<?, ?it/s]"
      ]
     },
     "metadata": {},
     "output_type": "display_data"
    },
    {
     "name": "stdout",
     "output_type": "stream",
     "text": [
      "(23601, 768)\n"
     ]
    }
   ],
   "source": [
    "embeddings = bert_model.encode(df['Title'], show_progress_bar=True)\n",
    "print(embeddings.shape)"
   ]
  },
  {
   "cell_type": "code",
   "execution_count": 9,
   "id": "0f0b08c8",
   "metadata": {},
   "outputs": [
    {
     "name": "stdout",
     "output_type": "stream",
     "text": [
      "Training set shapes: (18880, 768) (18880,)\n",
      "Test set shapes: (4721, 768) (4721,)\n"
     ]
    }
   ],
   "source": [
    "from sklearn.model_selection import train_test_split\n",
    "X_train, X_test, y_train, y_test = train_test_split(embeddings, df['Label'], \n",
    "                                          test_size=0.2, random_state=42)\n",
    "print (\"Training set shapes:\", X_train.shape, y_train.shape)\n",
    "print (\"Test set shapes:\", X_test.shape, y_test.shape)"
   ]
  },
  {
   "cell_type": "code",
   "execution_count": 10,
   "id": "3bbf69bf",
   "metadata": {},
   "outputs": [
    {
     "name": "stdout",
     "output_type": "stream",
     "text": [
      "WARNING:tensorflow:From C:\\Users\\user\\anaconda3\\Lib\\site-packages\\keras\\src\\losses.py:2976: The name tf.losses.sparse_softmax_cross_entropy is deprecated. Please use tf.compat.v1.losses.sparse_softmax_cross_entropy instead.\n",
      "\n",
      "WARNING:tensorflow:From C:\\Users\\user\\anaconda3\\Lib\\site-packages\\keras\\src\\backend.py:873: The name tf.get_default_graph is deprecated. Please use tf.compat.v1.get_default_graph instead.\n",
      "\n",
      "WARNING:tensorflow:From C:\\Users\\user\\anaconda3\\Lib\\site-packages\\keras\\src\\optimizers\\__init__.py:309: The name tf.train.Optimizer is deprecated. Please use tf.compat.v1.train.Optimizer instead.\n",
      "\n",
      "Epoch 1/10\n",
      "WARNING:tensorflow:From C:\\Users\\user\\anaconda3\\Lib\\site-packages\\keras\\src\\utils\\tf_utils.py:492: The name tf.ragged.RaggedTensorValue is deprecated. Please use tf.compat.v1.ragged.RaggedTensorValue instead.\n",
      "\n",
      "WARNING:tensorflow:From C:\\Users\\user\\anaconda3\\Lib\\site-packages\\keras\\src\\engine\\base_layer_utils.py:384: The name tf.executing_eagerly_outside_functions is deprecated. Please use tf.compat.v1.executing_eagerly_outside_functions instead.\n",
      "\n",
      "1180/1180 [==============================] - 6s 4ms/step - loss: 0.5170 - accuracy: 0.7296 - val_loss: 0.5009 - val_accuracy: 0.7465\n",
      "Epoch 2/10\n",
      "1180/1180 [==============================] - 5s 4ms/step - loss: 0.4438 - accuracy: 0.7762 - val_loss: 0.4463 - val_accuracy: 0.7759\n",
      "Epoch 3/10\n",
      "1180/1180 [==============================] - 3s 3ms/step - loss: 0.4022 - accuracy: 0.8088 - val_loss: 0.4389 - val_accuracy: 0.7835\n",
      "Epoch 4/10\n",
      "1180/1180 [==============================] - 2s 2ms/step - loss: 0.3689 - accuracy: 0.8273 - val_loss: 0.4312 - val_accuracy: 0.7935\n",
      "Epoch 5/10\n",
      "1180/1180 [==============================] - 2s 2ms/step - loss: 0.3382 - accuracy: 0.8442 - val_loss: 0.4310 - val_accuracy: 0.7918\n",
      "Epoch 6/10\n",
      "1180/1180 [==============================] - 2s 2ms/step - loss: 0.3091 - accuracy: 0.8601 - val_loss: 0.4440 - val_accuracy: 0.7909\n",
      "Epoch 7/10\n",
      "1180/1180 [==============================] - 2s 2ms/step - loss: 0.2768 - accuracy: 0.8778 - val_loss: 0.4658 - val_accuracy: 0.7952\n",
      "Epoch 8/10\n",
      "1180/1180 [==============================] - 2s 2ms/step - loss: 0.2500 - accuracy: 0.8919 - val_loss: 0.4282 - val_accuracy: 0.8060\n",
      "Epoch 9/10\n",
      "1180/1180 [==============================] - 2s 2ms/step - loss: 0.2274 - accuracy: 0.9042 - val_loss: 0.4781 - val_accuracy: 0.8026\n",
      "Epoch 10/10\n",
      "1180/1180 [==============================] - 2s 2ms/step - loss: 0.1984 - accuracy: 0.9198 - val_loss: 0.4969 - val_accuracy: 0.7950\n"
     ]
    }
   ],
   "source": [
    "from tensorflow.keras import Sequential, layers\n",
    "\n",
    "classifier = Sequential()\n",
    "classifier.add (layers.Dense(256, activation='relu', input_shape=(768,)))\n",
    "classifier.add (layers.Dense(1, activation='sigmoid'))\n",
    "classifier.compile(optimizer='adam', loss='binary_crossentropy', metrics=['accuracy'])  \n",
    "    \n",
    "hist = classifier.fit (X_train, y_train, epochs=10, batch_size=16, \n",
    "                      validation_data=(X_test, y_test))"
   ]
  },
  {
   "cell_type": "code",
   "execution_count": 11,
   "id": "f1fc96db",
   "metadata": {},
   "outputs": [
    {
     "data": {
      "image/png": "[encoded data removed]",
      "text/plain": [
       "<Figure size 1500x500 with 2 Axes>"
      ]
     },
     "metadata": {},
     "output_type": "display_data"
    }
   ],
   "source": [
    "from matplotlib import pyplot\n",
    "\n",
    "pyplot.figure(figsize=(15,5))\n",
    "pyplot.subplot(1, 2, 1)\n",
    "pyplot.plot(hist.history['loss'], 'r', label='Training loss')\n",
    "pyplot.plot(hist.history['val_loss'], 'g', label='Validation loss')\n",
    "pyplot.legend()\n",
    "pyplot.subplot(1, 2, 2)\n",
    "pyplot.plot(hist.history['accuracy'], 'r', label='Training accuracy')\n",
    "pyplot.plot(hist.history['val_accuracy'], 'g', label='Validation accuracy')\n",
    "pyplot.legend()\n",
    "pyplot.show()"
   ]
  },
  {
   "cell_type": "code",
   "execution_count": 12,
   "id": "21bc831f",
   "metadata": {},
   "outputs": [],
   "source": [
    "from tensorflow.keras.preprocessing.text import Tokenizer\n",
    "from tensorflow.keras.preprocessing.sequence import pad_sequences\n",
    "\n",
    "def preprocess_sentence(sentence):\n",
    "    \n",
    "    embeddings = bert_model.encode([sentence], show_progress_bar=True)\n",
    "    return embeddings"
   ]
  },
  {
   "cell_type": "code",
   "execution_count": 62,
   "id": "e9d352f5",
   "metadata": {},
   "outputs": [],
   "source": [
    "def predict_sentence(model, sentence):\n",
    "    threshold=0.6\n",
    "    \n",
    "    # Preprocess the sentence\n",
    "    preprocessed_sentence = preprocess_sentence(sentence)\n",
    "\n",
    "    # Make a prediction\n",
    "    prediction = model.predict(preprocessed_sentence)\n",
    "    # Classify based on the threshold\n",
    "    sentiment = \"depressed\" if prediction >= threshold else \"not depressed\"\n",
    "    \n",
    "    \n",
    "    \n",
    "    return sentiment + ' ' + str(prediction)"
   ]
  },
  {
   "cell_type": "code",
   "execution_count": 47,
   "id": "592e01eb",
   "metadata": {},
   "outputs": [
    {
     "data": {
      "application/vnd.jupyter.widget-view+json": {
       "model_id": "a420ad4d95fe4f82b2653a56c8eeafcb",
       "version_major": 2,
       "version_minor": 0
      },
      "text/plain": [
       "Batches:   0%|          | 0/1 [00:00<?, ?it/s]"
      ]
     },
     "metadata": {},
     "output_type": "display_data"
    },
    {
     "name": "stdout",
     "output_type": "stream",
     "text": [
      "1/1 [==============================] - 0s 16ms/step\n",
      "not depressed [[0.43800196]]\n"
     ]
    }
   ],
   "source": [
    "prediction_result = predict_sentence(classifier, \"Well Well Well\")\n",
    "print(prediction_result)"
   ]
  },
  {
   "cell_type": "code",
   "execution_count": 48,
   "id": "a48d564b",
   "metadata": {},
   "outputs": [
    {
     "data": {
      "application/vnd.jupyter.widget-view+json": {
       "model_id": "1cf04bfedf0641b5bed57e422f099318",
       "version_major": 2,
       "version_minor": 0
      },
      "text/plain": [
       "Batches:   0%|          | 0/1 [00:00<?, ?it/s]"
      ]
     },
     "metadata": {},
     "output_type": "display_data"
    },
    {
     "name": "stdout",
     "output_type": "stream",
     "text": [
      "1/1 [==============================] - 0s 17ms/step\n",
      "not depressed [[0.07335562]]\n"
     ]
    }
   ],
   "source": [
    "prediction_result = predict_sentence(classifier, \"I wonder how it work\")\n",
    "print(prediction_result)"
   ]
  },
  {
   "cell_type": "code",
   "execution_count": 61,
   "id": "be5c10f0",
   "metadata": {},
   "outputs": [
    {
     "data": {
      "application/vnd.jupyter.widget-view+json": {
       "model_id": "fef07bd369f041bb9a3f27985f6ed841",
       "version_major": 2,
       "version_minor": 0
      },
      "text/plain": [
       "Batches:   0%|          | 0/1 [00:00<?, ?it/s]"
      ]
     },
     "metadata": {},
     "output_type": "display_data"
    },
    {
     "name": "stdout",
     "output_type": "stream",
     "text": [
      "1/1 [==============================] - 0s 50ms/step\n",
      "depressed [[0.75103563]]\n"
     ]
    }
   ],
   "source": [
    "prediction_result = predict_sentence(classifier, \"Im so mad at him. I dont want to meet him any more!!\")\n",
    "print(prediction_result)"
   ]
  },
  {
   "cell_type": "code",
   "execution_count": 60,
   "id": "864fba71",
   "metadata": {},
   "outputs": [
    {
     "data": {
      "application/vnd.jupyter.widget-view+json": {
       "model_id": "e44665ca4c854cd8a019fc466bd3933d",
       "version_major": 2,
       "version_minor": 0
      },
      "text/plain": [
       "Batches:   0%|          | 0/1 [00:00<?, ?it/s]"
      ]
     },
     "metadata": {},
     "output_type": "display_data"
    },
    {
     "name": "stdout",
     "output_type": "stream",
     "text": [
      "1/1 [==============================] - 0s 30ms/step\n",
      "depressed [[0.982451]]\n"
     ]
    }
   ],
   "source": [
    "prediction_result = predict_sentence(classifier, \"It's like I'm stuck in a deep, dark hole with no way out.\")\n",
    "print(prediction_result)"
   ]
  },
  {
   "cell_type": "code",
   "execution_count": 69,
   "id": "7ebddd7c",
   "metadata": {},
   "outputs": [
    {
     "data": {
      "application/vnd.jupyter.widget-view+json": {
       "model_id": "2c89677c72b14b6492c0f435f6d5188f",
       "version_major": 2,
       "version_minor": 0
      },
      "text/plain": [
       "Batches:   0%|          | 0/1 [00:00<?, ?it/s]"
      ]
     },
     "metadata": {},
     "output_type": "display_data"
    },
    {
     "name": "stdout",
     "output_type": "stream",
     "text": [
      "1/1 [==============================] - 0s 24ms/step\n",
      "depressed [[0.6328456]]\n"
     ]
    }
   ],
   "source": [
    "prediction_result = predict_sentence(classifier, \"sfda\")\n",
    "print(prediction_result)"
   ]
  },
  {
   "cell_type": "code",
   "execution_count": null,
   "id": "29e7fb4a",
   "metadata": {},
   "outputs": [],
   "source": []
  }
 ],
 "metadata": {
  "kernelspec": {
   "display_name": "Python 3 (ipykernel)",
   "language": "python",
   "name": "python3"
  },
  "language_info": {
   "codemirror_mode": {
    "name": "ipython",
    "version": 3
   },
   "file_extension": ".py",
   "mimetype": "text/x-python",
   "name": "python",
   "nbconvert_exporter": "python",
   "pygments_lexer": "ipython3",
   "version": "3.11.4"
  }
 },
 "nbformat": 4,
 "nbformat_minor": 5
}
